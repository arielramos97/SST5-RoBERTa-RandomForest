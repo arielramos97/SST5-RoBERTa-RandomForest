{
  "nbformat": 4,
  "nbformat_minor": 0,
  "metadata": {
    "colab": {
      "name": "Research_project-Random_Forest.ipynb",
      "provenance": [],
      "collapsed_sections": [],
      "machine_shape": "hm"
    },
    "kernelspec": {
      "name": "python3",
      "display_name": "Python 3"
    },
    "language_info": {
      "name": "python"
    }
  },
  "cells": [
    {
      "cell_type": "markdown",
      "source": [
        "# Research Project - Fine-grained sentiment analysis: SST-5\n",
        "\n",
        "### **Student:** Ariel Ricardo Ramos Vela\n",
        "\n"
      ],
      "metadata": {
        "id": "ESYom5NrsWY9"
      }
    },
    {
      "cell_type": "code",
      "execution_count": null,
      "metadata": {
        "id": "sBHBH_88sAbp",
        "colab": {
          "base_uri": "https://localhost:8080/"
        },
        "outputId": "6e20cdff-6ce6-4f36-d9dc-1620699ab97f"
      },
      "outputs": [
        {
          "output_type": "stream",
          "name": "stdout",
          "text": [
            "[nltk_data] Downloading package stopwords to /root/nltk_data...\n",
            "[nltk_data]   Package stopwords is already up-to-date!\n",
            "[nltk_data] Downloading package wordnet to /root/nltk_data...\n",
            "[nltk_data]   Package wordnet is already up-to-date!\n"
          ]
        }
      ],
      "source": [
        "#Import required libraries\n",
        "import numpy as np\n",
        "import pandas as pd\n",
        "import torch\n",
        "import torch.nn as nn\n",
        "import torch.optim as optim\n",
        "from torch.optim import Adam\n",
        "from torch.optim import AdamW\n",
        "import torch.nn.functional as F\n",
        "\n",
        "from torch.utils.data import Dataset, DataLoader\n",
        "from tqdm import tqdm_notebook\n",
        "from sklearn.ensemble import RandomForestClassifier\n",
        "\n",
        "\n",
        "import gensim\n",
        "import matplotlib.pyplot as plt\n",
        "import re\n",
        "import nltk\n",
        "nltk.download('stopwords')\n",
        "nltk.download('wordnet')\n",
        "from nltk.corpus import stopwords\n",
        "stop_words = set(stopwords.words('english'))\n",
        "from nltk.stem import PorterStemmer, WordNetLemmatizer\n",
        "\n",
        "from sklearn.model_selection import GridSearchCV\n",
        "from sklearn.metrics import confusion_matrix\n",
        "from sklearn.metrics import classification_report\n",
        "\n",
        "import seaborn as sns\n",
        "import numpy as np\n",
        "\n",
        "\n"
      ]
    },
    {
      "cell_type": "code",
      "source": [
        "#Load training, validation and testing datasets\n",
        "train_dataset = pd.read_csv('./train.txt', sep=\"\\t\", header=None, names=[\"label\", \"data\"])\n",
        "validation_dataset = pd.read_csv('./dev.txt', sep=\"\\t\", header=None, names=[\"label\", \"data\"])\n",
        "test_dataset = pd.read_csv('./test.txt', sep=\"\\t\", header=None, names=[\"label\", \"data\"])"
      ],
      "metadata": {
        "id": "ODnchrohsGda"
      },
      "execution_count": null,
      "outputs": []
    },
    {
      "cell_type": "code",
      "source": [
        "#Make labels start from 0 \n",
        "train_dataset['label'] = train_dataset['label'] -1\n",
        "validation_dataset['label'] = validation_dataset['label'] -1\n",
        "test_dataset['label'] = test_dataset['label'] -1"
      ],
      "metadata": {
        "id": "kklvdJoDcL5f"
      },
      "execution_count": null,
      "outputs": []
    },
    {
      "cell_type": "code",
      "source": [
        "#Explore distribution of datasets\n",
        "\n",
        "fig, ax = plt.subplots(3, figsize=(5,10))\n",
        "fig.suptitle('Distribution of datasets')\n",
        "\n",
        "\n",
        "#Training data\n",
        "\n",
        "ax[0] = train_dataset['label'].value_counts(sort=False).plot(kind='barh', ax=ax[0])\n",
        "ax[0].set_xlabel('Number of Samples (Training)')\n",
        "ax[0].set_ylabel('Label')\n",
        "\n",
        "for i, v in enumerate(train_dataset['label'].value_counts(sort=False)):\n",
        "    ax[0].text(v + 3, i + .25, str(v), fontweight='bold')\n",
        "\n",
        "# #Validation data\n",
        "ax[1] = validation_dataset['label'].value_counts(sort=False).plot(kind='barh', ax=ax[1])\n",
        "ax[1].set_xlabel('Number of Samples (Validation)')\n",
        "ax[1].set_ylabel('Label')\n",
        "\n",
        "for i, v in enumerate(validation_dataset['label'].value_counts(sort=False)):\n",
        "    ax[1].text(v + 3, i + .25, str(v), fontweight='bold')\n",
        "\n",
        "# #Testing data\n",
        "ax[2] = test_dataset['label'].value_counts(sort=False).plot(kind='barh', ax=ax[2])\n",
        "ax[2].set_xlabel('Number of Samples (Testing)')\n",
        "ax[2].set_ylabel('Label')\n",
        "\n",
        "for i, v in enumerate(test_dataset['label'].value_counts(sort=False)):\n",
        "    ax[2].text(v + 3, i + .25, str(v), fontweight='bold')"
      ],
      "metadata": {
        "colab": {
          "base_uri": "https://localhost:8080/",
          "height": 677
        },
        "id": "5VqZ090WPiCr",
        "outputId": "d926d441-2334-4553-ba21-fdb0870cc652"
      },
      "execution_count": null,
      "outputs": [
        {
          "output_type": "display_data",
          "data": {
            "text/plain": [
              "<Figure size 360x720 with 3 Axes>"
            ],
            "image/png": "[encoded data removed]"
          },
          "metadata": {
            "needs_background": "light"
          }
        }
      ]
    },
    {
      "cell_type": "code",
      "source": [
        "#Oversampling majority class (3) in training dataset\n",
        "c0 = train_dataset[train_dataset['label'] == 0]\n",
        "c1 = train_dataset[train_dataset['label'] == 1]\n",
        "c2 = train_dataset[train_dataset['label'] == 2]\n",
        "c3 = train_dataset[train_dataset['label'] == 3]\n",
        "c4 = train_dataset[train_dataset['label'] == 4]\n",
        "\n",
        "max_count = train_dataset.label.value_counts().max()\n",
        "\n",
        "over_c0 = c0.sample(max_count, replace='True')\n",
        "over_c1 = c1.sample(max_count, replace='True')\n",
        "over_c2 = c2.sample(max_count, replace='True')\n",
        "over_c4 = c4.sample(max_count, replace='True')\n",
        "\n",
        "oversampled_train_dataset = pd.concat([over_c0,over_c1, over_c2, c3, over_c4], axis=0)\n",
        "\n",
        "#Undersampling to minority class (0) in training dataset\n",
        "min_count = train_dataset.label.value_counts().min()\n",
        "under_c1 = c1.sample(min_count)\n",
        "under_c2 = c2.sample(min_count)\n",
        "under_c3 = c3.sample(min_count)\n",
        "under_c4 = c4.sample(min_count)\n",
        "\n",
        "undersampled_train_dataset = pd.concat([c0,under_c1, under_c2, under_c3, under_c4], axis=0)\n",
        "\n",
        "print('Oversampled dataset: \\n', oversampled_train_dataset.label.value_counts())\n",
        "\n",
        "print('Undersampled dataset: \\n', undersampled_train_dataset.label.value_counts())"
      ],
      "metadata": {
        "colab": {
          "base_uri": "https://localhost:8080/"
        },
        "id": "J7F82NdMbpJi",
        "outputId": "1bd4b9de-446d-4108-9883-42fd7bc0ea5a"
      },
      "execution_count": null,
      "outputs": [
        {
          "output_type": "stream",
          "name": "stdout",
          "text": [
            "Oversampled dataset: \n",
            " 0    2322\n",
            "1    2322\n",
            "2    2322\n",
            "3    2322\n",
            "4    2322\n",
            "Name: label, dtype: int64\n",
            "Undersampled dataset: \n",
            " 0    1092\n",
            "1    1092\n",
            "2    1092\n",
            "3    1092\n",
            "4    1092\n",
            "Name: label, dtype: int64\n"
          ]
        }
      ]
    },
    {
      "cell_type": "code",
      "source": [
        "corpus_train = oversampled_train_dataset[\"data\"]\n",
        "# corpus_train = undersampled_train_dataset[\"data\"]\n",
        "\n",
        "corpus_validation = validation_dataset[\"data\"]\n",
        "corpus_test = test_dataset[\"data\"]\n",
        "\n",
        "#Preprocessing\n",
        "stemmer = PorterStemmer()\n",
        "lemmatizer = WordNetLemmatizer()\n",
        "\n",
        "\n",
        "def preprocess(string):\n",
        "\n",
        "    #Remove punctuation and lower case\n",
        "    # print(string)\n",
        "    string = re.sub(r'[^\\w\\s]', '', string.lower())\n",
        "    lst_words = string.split()\n",
        "\n",
        "    #Remove stop words\n",
        "    non_stop_words = [word for word in lst_words if word not in stop_words]\n",
        "    if len(non_stop_words) < 1:\n",
        "        non_stop_words = lst_words\n",
        "\n",
        "    #Stemming / Lemmatizing\n",
        "    # lst_words = [stemmer.stem(word) for word in non_stop_words]\n",
        "    lst_words = [lemmatizer.lemmatize(word) for word in non_stop_words]\n",
        "    \n",
        "    # print(lst_words)\n",
        "    return lst_words\n",
        "\n",
        "\n",
        "\n",
        "def get_grams(corpus):\n",
        "\n",
        "    lst_corpus = []\n",
        "\n",
        "    for string in corpus:\n",
        "\n",
        "        lst_words = preprocess(string)\n",
        "\n",
        "        lst_grams = [\" \".join(lst_words[i:i+1]) \n",
        "                for i in range(0, len(lst_words), 1)]\n",
        "    \n",
        "        lst_corpus.append(lst_grams)\n",
        "    \n",
        "    return lst_corpus\n",
        "\n",
        "\n",
        "#create list of lists of unigrams\n",
        "lst_corpus = []\n",
        "\n",
        "lst_corpus_train = get_grams(corpus_train)\n",
        "lst_corpus_val = get_grams(corpus_validation)\n",
        "lst_corpus_test = get_grams(corpus_test)\n",
        "\n",
        "lst_corpus.extend(lst_corpus_train)\n",
        "lst_corpus.extend(lst_corpus_val)\n",
        "lst_corpus.extend(lst_corpus_test)\n"
      ],
      "metadata": {
        "id": "uceWuHqwyiQt"
      },
      "execution_count": null,
      "outputs": []
    },
    {
      "cell_type": "code",
      "source": [
        "print(len(corpus_train) + len(corpus_validation) + len(corpus_test))\n",
        "print(len(lst_corpus))"
      ],
      "metadata": {
        "colab": {
          "base_uri": "https://localhost:8080/"
        },
        "id": "bAPFTQMzJujW",
        "outputId": "4e8246c4-4781-4b3f-d73e-03b5e7a9ca66"
      },
      "execution_count": null,
      "outputs": [
        {
          "output_type": "stream",
          "name": "stdout",
          "text": [
            "14921\n",
            "14921\n"
          ]
        }
      ]
    },
    {
      "cell_type": "code",
      "source": [
        "# fit w2v\n",
        "w2v_model = gensim.models.word2vec.Word2Vec(lst_corpus, size=300,   \n",
        "            window=8, min_count=1, sg=1, iter=30)"
      ],
      "metadata": {
        "id": "nJ9Y6VhA93qs"
      },
      "execution_count": null,
      "outputs": []
    },
    {
      "cell_type": "code",
      "source": [
        "#Try model\n",
        "w2v_model.wv.__getitem__(\"rock\").shape\n",
        "# w2v_model.wv.index2word"
      ],
      "metadata": {
        "colab": {
          "base_uri": "https://localhost:8080/"
        },
        "id": "RMuh7OG-ztJg",
        "outputId": "83269319-c54b-4813-ed4b-d98792a66d9d"
      },
      "execution_count": null,
      "outputs": [
        {
          "output_type": "execute_result",
          "data": {
            "text/plain": [
              "(300,)"
            ]
          },
          "metadata": {},
          "execution_count": 57
        }
      ]
    },
    {
      "cell_type": "code",
      "source": [
        "#Now get a representation of a phrase by averaging vectors\n",
        "\n",
        "def prepare_X(corpus):\n",
        "    X = np.zeros((len(corpus), 300))\n",
        "\n",
        "    for i, string in enumerate(corpus):\n",
        "        # lst_words = string.split()\n",
        "        lst_words = preprocess(string)\n",
        "        if len(lst_words) == 0:\n",
        "            print(string)\n",
        "            print(lst_words)\n",
        "            break\n",
        "        for j, w in enumerate(lst_words):\n",
        "            # print(j, w)\n",
        "            if j == 0:\n",
        "                vector = w2v_model.wv.__getitem__(w)\n",
        "                # print(vector)\n",
        "            else:\n",
        "                vector = np.add(vector, w2v_model.wv.__getitem__(w))\n",
        "                # print(vector.shape)\n",
        "        \n",
        "        vector = np.divide(vector, len(lst_words))\n",
        "        X[i] = vector\n",
        "    return X"
      ],
      "metadata": {
        "id": "_WQxqaOY3G1M"
      },
      "execution_count": null,
      "outputs": []
    },
    {
      "cell_type": "code",
      "source": [
        "X_train = prepare_X(corpus_train)\n",
        "# y_train = undersampled_train_dataset['label']\n",
        "y_train = oversampled_train_dataset['label']\n",
        "\n",
        "\n"
      ],
      "metadata": {
        "id": "lqIqjBVT5_oF"
      },
      "execution_count": null,
      "outputs": []
    },
    {
      "cell_type": "code",
      "source": [
        "#Validation step\n",
        "X_validation = prepare_X(corpus_validation)\n",
        "y_validation = validation_dataset['label']\n"
      ],
      "metadata": {
        "id": "xEf041nT8GyH"
      },
      "execution_count": null,
      "outputs": []
    },
    {
      "cell_type": "code",
      "source": [
        "#Hypertuning\n",
        "\n",
        "# Number of trees in random forest\n",
        "n_estimators = [int(x) for x in np.linspace(start = 50, stop = 100, num = 10)]\n",
        "# Number of features to consider at every split\n",
        "max_features = ['auto', 'sqrt']\n",
        "# Maximum number of levels in tree\n",
        "max_depth = [2,4]\n",
        "# Minimum number of samples required to split a node\n",
        "min_samples_split = [2, 5]\n",
        "# Minimum number of samples required at each leaf node\n",
        "min_samples_leaf = [1, 2]\n",
        "# Method of selecting samples for training each tree\n",
        "bootstrap = [True, False]\n",
        "\n"
      ],
      "metadata": {
        "id": "ZWfREQAx-piL"
      },
      "execution_count": null,
      "outputs": []
    },
    {
      "cell_type": "code",
      "source": [
        "param_grid = {'n_estimators': n_estimators,\n",
        "               'max_features': max_features,\n",
        "               'max_depth': max_depth,\n",
        "               'min_samples_split': min_samples_split,\n",
        "               'min_samples_leaf': min_samples_leaf,\n",
        "               'bootstrap': bootstrap}\n",
        "print(param_grid)"
      ],
      "metadata": {
        "colab": {
          "base_uri": "https://localhost:8080/"
        },
        "id": "20TXIJEzA6Oe",
        "outputId": "9e271743-701c-4751-8963-f6d6ddbe7105"
      },
      "execution_count": null,
      "outputs": [
        {
          "output_type": "stream",
          "name": "stdout",
          "text": [
            "{'n_estimators': [50, 55, 61, 66, 72, 77, 83, 88, 94, 100], 'max_features': ['auto', 'sqrt'], 'max_depth': [2, 4], 'min_samples_split': [2, 5], 'min_samples_leaf': [1, 2], 'bootstrap': [True, False]}\n"
          ]
        }
      ]
    },
    {
      "cell_type": "code",
      "source": [
        "clf = RandomForestClassifier(random_state=0)\n",
        "\n",
        "rf_Grid = GridSearchCV(estimator = clf, param_grid = param_grid, cv = 10, verbose=1, n_jobs = 1)\n",
        "rf_Grid.fit(X_train, y_train)"
      ],
      "metadata": {
        "colab": {
          "base_uri": "https://localhost:8080/"
        },
        "id": "sKxYB6eUBAVK",
        "outputId": "76eb011b-3dc6-44f7-ff84-068c57eed079"
      },
      "execution_count": null,
      "outputs": [
        {
          "output_type": "stream",
          "name": "stdout",
          "text": [
            "Fitting 10 folds for each of 320 candidates, totalling 3200 fits\n"
          ]
        },
        {
          "output_type": "execute_result",
          "data": {
            "text/plain": [
              "GridSearchCV(cv=10, estimator=RandomForestClassifier(random_state=0), n_jobs=1,\n",
              "             param_grid={'bootstrap': [True, False], 'max_depth': [2, 4],\n",
              "                         'max_features': ['auto', 'sqrt'],\n",
              "                         'min_samples_leaf': [1, 2],\n",
              "                         'min_samples_split': [2, 5],\n",
              "                         'n_estimators': [50, 55, 61, 66, 72, 77, 83, 88, 94,\n",
              "                                          100]},\n",
              "             verbose=1)"
            ]
          },
          "metadata": {},
          "execution_count": 26
        }
      ]
    },
    {
      "cell_type": "code",
      "source": [
        "rf_Grid.best_params_"
      ],
      "metadata": {
        "colab": {
          "base_uri": "https://localhost:8080/"
        },
        "id": "M3voKYvnBOJx",
        "outputId": "feb8def2-6d47-4298-ad69-6d65adb734c8"
      },
      "execution_count": null,
      "outputs": [
        {
          "output_type": "execute_result",
          "data": {
            "text/plain": [
              "{'bootstrap': True,\n",
              " 'max_depth': 4,\n",
              " 'max_features': 'auto',\n",
              " 'min_samples_leaf': 2,\n",
              " 'min_samples_split': 2,\n",
              " 'n_estimators': 100}"
            ]
          },
          "metadata": {},
          "execution_count": 29
        }
      ]
    },
    {
      "cell_type": "code",
      "source": [
        "#Calculate validation accuracy\n",
        "val_accuracy = rf_Grid.score(X_validation,y_validation)\n",
        "print('Validation accuracy: ', val_accuracy)"
      ],
      "metadata": {
        "colab": {
          "base_uri": "https://localhost:8080/"
        },
        "id": "IWBe5wHY9EEa",
        "outputId": "2591466a-d209-400d-eebe-11657ae7f9e6"
      },
      "execution_count": null,
      "outputs": [
        {
          "output_type": "stream",
          "name": "stdout",
          "text": [
            "Validation accuracy:  0.32879200726612173\n"
          ]
        }
      ]
    },
    {
      "cell_type": "code",
      "source": [
        "#Testing with best hyperparameters\n",
        "X_test = prepare_X(corpus_test)\n",
        "y_test = test_dataset['label']\n",
        "\n",
        "clf = RandomForestClassifier(random_state=0, bootstrap=True, max_depth=4, max_features='auto', min_samples_leaf=2, min_samples_split=2, n_estimators=100)\n",
        "clf.fit(X_train, y_train)\n",
        "\n",
        "testing_accuracy = clf.score(X_test, y_test)\n",
        "print('Testing accuracy: ', testing_accuracy)\n",
        "\n",
        "y_pred = clf.predict(X_test)\n"
      ],
      "metadata": {
        "id": "rh0qrKdCBTyf",
        "colab": {
          "base_uri": "https://localhost:8080/"
        },
        "outputId": "eaed8c7c-b940-404e-c5b6-30857645a8e5"
      },
      "execution_count": null,
      "outputs": [
        {
          "output_type": "stream",
          "name": "stdout",
          "text": [
            "Testing accuracy:  0.31402714932126696\n"
          ]
        }
      ]
    },
    {
      "cell_type": "code",
      "source": [
        "#Compute confusion matrix and plot it\n",
        "cf_matrix = confusion_matrix(y_test, y_pred)\n",
        "\n",
        "group_counts = [\"{0:0.0f}\".format(value) for value in\n",
        "                cf_matrix.flatten()]\n",
        "\n",
        "group_percentages = [\"{0:.2%}\".format(value) for value in\n",
        "                     cf_matrix.flatten()/np.sum(cf_matrix)]\n",
        "\n",
        "labels = [f\"{v1}\\n{v2}\\n\" for v1, v2 in\n",
        "          zip(group_counts,group_percentages)]\n",
        "\n",
        "labels = np.asarray(labels).reshape(5,5)\n",
        "\n",
        "ax = sns.heatmap(cf_matrix, annot=labels, fmt='', cmap='Blues')\n",
        "\n",
        "ax.set_title('Confusion Matrix with counts and percentages\\n\\n');\n",
        "ax.set_xlabel('\\nPredicted Class')\n",
        "ax.set_ylabel('Actual Class');\n",
        "\n",
        "## Display the visualization of the Confusion Matrix.\n",
        "plt.show()"
      ],
      "metadata": {
        "colab": {
          "base_uri": "https://localhost:8080/",
          "height": 337
        },
        "id": "1XbsRkoDAhME",
        "outputId": "dd6dc791-4336-4d59-dc09-8ff7e8880b38"
      },
      "execution_count": null,
      "outputs": [
        {
          "output_type": "display_data",
          "data": {
            "text/plain": [
              "<Figure size 432x288 with 2 Axes>"
            ],
            "image/png": "[encoded data removed]"
          },
          "metadata": {
            "needs_background": "light"
          }
        }
      ]
    },
    {
      "cell_type": "code",
      "source": [
        "print(classification_report(y_test, y_pred))"
      ],
      "metadata": {
        "colab": {
          "base_uri": "https://localhost:8080/"
        },
        "id": "9Yx89enWVqOH",
        "outputId": "026bc604-9b60-4a66-82e3-fe0b21f571ee"
      },
      "execution_count": null,
      "outputs": [
        {
          "output_type": "stream",
          "name": "stdout",
          "text": [
            "              precision    recall  f1-score   support\n",
            "\n",
            "           0       0.25      0.31      0.27       279\n",
            "           1       0.38      0.30      0.34       633\n",
            "           2       0.20      0.05      0.08       389\n",
            "           3       0.28      0.44      0.34       510\n",
            "           4       0.38      0.43      0.40       399\n",
            "\n",
            "    accuracy                           0.31      2210\n",
            "   macro avg       0.30      0.31      0.29      2210\n",
            "weighted avg       0.31      0.31      0.30      2210\n",
            "\n"
          ]
        }
      ]
    },
    {
      "cell_type": "code",
      "source": [
        "#Analyze inputs with some examples\n",
        "class_2 = np.where(y_test == 2)[0]\n",
        "\n",
        "#Print some examples to see if any pattern in class 2\n",
        "for i in class_2[::30]:\n",
        "    print(corpus_test[i])\n",
        "    print(lst_corpus_test[i])\n",
        "    print()\n"
      ],
      "metadata": {
        "colab": {
          "base_uri": "https://localhost:8080/"
        },
        "id": "xQAAtMvmHgQL",
        "outputId": "eec7e4c2-670b-499a-80c7-68795a80ca5b"
      },
      "execution_count": null,
      "outputs": [
        {
          "output_type": "stream",
          "name": "stdout",
          "text": [
            "Effective but too-tepid biopic\n",
            "['effective', 'tootepid', 'biopic']\n",
            "\n",
            "But you 'll definitely want the T-shirt .\n",
            "['definitely', 'want', 'tshirt']\n",
            "\n",
            "If the message seems more facile than the earlier films , the images have such a terrible beauty you may not care .\n",
            "['message', 'seems', 'facile', 'earlier', 'film', 'image', 'terrible', 'beauty', 'may', 'care']\n",
            "\n",
            "The warm presence of Zhao Benshan makes the preposterous lying hero into something more than he reasonably should be .\n",
            "['warm', 'presence', 'zhao', 'benshan', 'make', 'preposterous', 'lying', 'hero', 'something', 'reasonably']\n",
            "\n",
            "The disarming cornball atmosphere has a way of infecting the entire crowd as the film rolls on .\n",
            "['disarming', 'cornball', 'atmosphere', 'way', 'infecting', 'entire', 'crowd', 'film', 'roll']\n",
            "\n",
            "Human Resources was a good , straightforward tale , but Time Out is better .\n",
            "['human', 'resource', 'good', 'straightforward', 'tale', 'time', 'better']\n",
            "\n",
            "Both awful and appealing .\n",
            "['awful', 'appealing']\n",
            "\n",
            "Both stars manage to be funny , but , like the recent I Spy , the star chemistry begs the question of whether random gags add up to a movie .\n",
            "['star', 'manage', 'funny', 'like', 'recent', 'spy', 'star', 'chemistry', 'begs', 'question', 'whether', 'random', 'gag', 'add', 'movie']\n",
            "\n",
            "So relentlessly wholesome it made me want to swipe something .\n",
            "['relentlessly', 'wholesome', 'made', 'want', 'swipe', 'something']\n",
            "\n",
            "To portray modern women the way director Davis has done is just unthinkable .\n",
            "['portray', 'modern', 'woman', 'way', 'director', 'davis', 'done', 'unthinkable']\n",
            "\n",
            "Aaliyah rarely dampens her diva persona enough to spark genuine chemistry with Townsend .\n",
            "['aaliyah', 'rarely', 'dampens', 'diva', 'persona', 'enough', 'spark', 'genuine', 'chemistry', 'townsend']\n",
            "\n",
            "The film seems all but destined to pop up on a television screen in the background of a scene in a future Quentin Tarantino picture\n",
            "['film', 'seems', 'destined', 'pop', 'television', 'screen', 'background', 'scene', 'future', 'quentin', 'tarantino', 'picture']\n",
            "\n",
            "Take away all the cliches and the carbon copy scenes from every drug movie we 've seen and all you have left are John Leguizamo 's cool jackets .\n",
            "['take', 'away', 'cliche', 'carbon', 'copy', 'scene', 'every', 'drug', 'movie', 'seen', 'left', 'john', 'leguizamo', 'cool', 'jacket']\n",
            "\n"
          ]
        }
      ]
    }
  ]
}